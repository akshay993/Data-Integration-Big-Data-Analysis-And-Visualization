{
 "cells": [
  {
   "cell_type": "markdown",
   "metadata": {},
   "source": [
    "# Extra Whitespace\n"
   ]
  },
  {
   "cell_type": "code",
   "execution_count": 5,
   "metadata": {},
   "outputs": [
    {
     "name": "stdout",
     "output_type": "stream",
     "text": [
      "ABC\n",
      "ABC\t\n",
      "  ABC\n",
      "AB\n"
     ]
    }
   ],
   "source": [
    "print(\"ABC\\t\".strip())\n",
    "print(\"  ABC\\t\".lstrip())\n",
    "print(\"  ABC\\t\".rstrip())\n",
    "print(\"ABC\".strip(\"C\"))\n"
   ]
  },
  {
   "cell_type": "markdown",
   "metadata": {},
   "source": [
    "# Invalid Characters"
   ]
  },
  {
   "cell_type": "code",
   "execution_count": 9,
   "metadata": {},
   "outputs": [
    {
     "name": "stdout",
     "output_type": "stream",
     "text": [
      "abcÿ\n"
     ]
    },
    {
     "data": {
      "text/plain": [
       "b'abc'"
      ]
     },
     "execution_count": 9,
     "metadata": {},
     "output_type": "execute_result"
    }
   ],
   "source": [
    "s = \"abc\\xFF\"\n",
    "print(s)\n",
    "s.encode(\"ascii\", \"ignore\")"
   ]
  },
  {
   "cell_type": "markdown",
   "metadata": {},
   "source": [
    "# Weird or Incompatible Datetimes"
   ]
  },
  {
   "cell_type": "code",
   "execution_count": 16,
   "metadata": {},
   "outputs": [
    {
     "name": "stdout",
     "output_type": "stream",
     "text": [
      "1985-08-13 00:00:00\n",
      "2013-08-13 00:00:00\n",
      "2013-08-13 04:15:00\n"
     ]
    }
   ],
   "source": [
    "import dateutil.parser as p\n",
    "print(p.parse(\"August 13, 1985\"))\n",
    "print(p.parse(\"2013-8-13\"))\n",
    "print(p.parse(\"2013-8-13 4:15am\"))"
   ]
  },
  {
   "cell_type": "markdown",
   "metadata": {},
   "source": [
    "# Example Formatting Script"
   ]
  },
  {
   "cell_type": "code",
   "execution_count": 23,
   "metadata": {},
   "outputs": [
    {
     "name": "stdout",
     "output_type": "stream",
     "text": [
      "                Name  Age   Birthdate First Name Last Name\n",
      "0  Ms. Janice Joplin   65  1943-01-19     Janice    Joplin\n",
      "1          Bob Dylan   74  1941-03-24        Bob     Dylan\n",
      "2     Billy Ray Joel   66  1941-02-09      Billy      Joel\n"
     ]
    }
   ],
   "source": [
    "def get_first_last_name(s):\n",
    "    INVALID_NAME_PARTS = [\"mr\", \"ms\", \"mrs\",\n",
    "        \"dr\", \"jr\", \"sir\"]\n",
    "    parts = s.lower().replace(\".\",\"\").strip().split()\n",
    "    parts = [p for p in parts\n",
    "        if p not in INVALID_NAME_PARTS]\n",
    "    if len(parts)==0:\n",
    "        raise ValueError(\n",
    "             \"Name %s is formatted wrong\" % s)\n",
    "    first, last = parts[0], parts[-1]\n",
    "    first = first[0].upper() + first[1:]\n",
    "    last = last[0].upper() + last[1:]\n",
    "    return first, last\n",
    "def format_age(s):\n",
    "    chars = list(s) # list of characters\n",
    "    digit_chars = [c for c in chars if c.isdigit()]\n",
    "    return int(\"\".join(digit_chars))\n",
    "def format_date(s):\n",
    "    MONTH_MAP = {\n",
    "            \"jan\": \"01\", \"feb\": \"02\", \"may\": \"03\"}\n",
    "    s = s.strip().lower().replace(\",\", \"\")\n",
    "    m, d, y = s.split()\n",
    "    if len(y) == 2: y = \"19\" + y\n",
    "    if len(d) == 1: d = \"0\" + d\n",
    "    return y + \"-\" + MONTH_MAP[m[:3]] + \"-\" + d\n",
    "\n",
    "import pandas as pd\n",
    "data = [['Ms. Janice Joplin','65','January 19, 1943'],['Bob Dylan','74 Years','may 24 1941'],['Billy Ray Joel','66yo','Feb. 9, 1941'\n",
    "]]\n",
    "df = pd.DataFrame(data,columns=['Name','Age','Birthdate'])\n",
    "df[\"First Name\"] = df[\"Name\"].apply(\n",
    "    lambda s: get_first_last_name(s)[0])\n",
    "df[\"Last Name\"] = df[\"Name\"].apply(\n",
    "    lambda s: get_first_last_name(s)[1])\n",
    "df[\"Age\"] = df[\"Age\"].apply(format_age)\n",
    "df[\"Birthdate\"] = df[\"Birthdate\"].apply(\n",
    "    format_date).astype(pd.datetime)\n",
    "print(df)\n"
   ]
  },
  {
   "cell_type": "markdown",
   "metadata": {},
   "source": [
    "# Regular Expressions"
   ]
  },
  {
   "cell_type": "code",
   "execution_count": 27,
   "metadata": {},
   "outputs": [
    {
     "ename": "SyntaxError",
     "evalue": "invalid syntax (<ipython-input-27-b58781203a0e>, line 22)",
     "output_type": "error",
     "traceback": [
      "\u001b[0;36m  File \u001b[0;32m\"<ipython-input-27-b58781203a0e>\"\u001b[0;36m, line \u001b[0;32m22\u001b[0m\n\u001b[0;31m    newline newline_re = re.compile(pattern)\u001b[0m\n\u001b[0m                     ^\u001b[0m\n\u001b[0;31mSyntaxError\u001b[0m\u001b[0;31m:\u001b[0m invalid syntax\n"
     ]
    }
   ],
   "source": [
    "import re\n",
    "# This matches \"1600 Pennsylvania Ave.\"\n",
    "# It does NOT match \"5 Stony Brook St\"\n",
    "# cuz there is a space in \"Stony Brook\"\n",
    "street_pattern = r\"^[0-9]\\s[A-Z][a-z]*\" + \\\n",
    "    r\"(Street|St|Rd|Road|Ave|Avenue|Blvd|Way|Wy)\\.?$\"\n",
    "# Like the one above, this assumes\n",
    "# there is no space in the town name\n",
    "city_pattern = r\"^[A-Z][a-z]*,\\s[A-Z]{2},[0-9]{5}$\"\n",
    "address_pattern = street_pattern + r\"\\n\" \\\n",
    "    + city_pattern\n",
    "# Compile the string into a regular expression object\n",
    "address_re = re.compile(address_pattern)\n",
    "text = open(\"some_file.txt\", \"r\").read()\n",
    "matches = re.findall(address_re, text)\n",
    "# list of all strings that match\n",
    "open(\"addresses_w_space_between.txt\",\n",
    "    \"w\").write(\"\\n\\n\".join(matches))\n",
    "pattern = \"\\n\"\n",
    "my_re = re.compile(pattern) # trying to match a newline\n",
    "# Escape the slash w another \n",
    "slash_pattern = \"\\\\n\"\n",
    "# This matches a \n",
    "newline newline_re = re.compile(pattern)\n"
   ]
  },
  {
   "cell_type": "code",
   "execution_count": null,
   "metadata": {},
   "outputs": [],
   "source": []
  }
 ],
 "metadata": {
  "kernelspec": {
   "display_name": "Python 3",
   "language": "python",
   "name": "python3"
  },
  "language_info": {
   "codemirror_mode": {
    "name": "ipython",
    "version": 3
   },
   "file_extension": ".py",
   "mimetype": "text/x-python",
   "name": "python",
   "nbconvert_exporter": "python",
   "pygments_lexer": "ipython3",
   "version": "3.6.4"
  }
 },
 "nbformat": 4,
 "nbformat_minor": 2
}
